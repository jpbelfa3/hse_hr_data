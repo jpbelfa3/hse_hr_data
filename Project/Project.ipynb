{
 "cells": [
  {
   "cell_type": "markdown",
   "id": "7c8cb7d4-74b4-4591-a721-6064e3496fb2",
   "metadata": {},
   "source": [
    "# Индивидуальный проект\n",
    "## Проблема\n",
    "Неэффективное использование персоналом компании рабочего времени приводит к снижению результатов труда и сокращению выручки компании. Мерой абсентеизма чаще всего выступает общее количество пропущенных дней (или часов) или частота отсутствия сотрудника на работе. Коэффициент абсентеизма помогает проанализировать время, в течение которого сотрудники отсутствовали на работе или занимались личными делами. Чем он выше, тем больше времени работники тратят впустую. \n",
    "\n",
    "Цель исследования - определить, какой признак оказывает наиболее существенное влияние на намерение сотрудника отстствовать на работе.\n",
    "\n",
    "Задачи исследования:\n",
    "1. Проанализировать основные метрики\n",
    "2. Проанализировать гистограммы\n",
    "3. Удалить аномальные значения\n",
    "4. Провести train и test\n",
    "5. Обучить линейную регрессию\n",
    "6. Проанализировать RMSE и R2.\n",
    "7. Выявить наиболее влияющие факторы\n"
   ]
  },
  {
   "cell_type": "markdown",
   "id": "1943a8ff-2deb-4b7f-915e-6e3e634a2412",
   "metadata": {},
   "source": [
    "## Общая информация о данных"
   ]
  },
  {
   "cell_type": "code",
   "execution_count": 16,
   "id": "465fe383-3822-46e7-b5aa-932bb2841597",
   "metadata": {},
   "outputs": [],
   "source": [
    "import pandas as pd\n",
    "import numpy as np\n",
    "from scipy import stats\n",
    "import matplotlib\n",
    "import matplotlib.pyplot as plt"
   ]
  },
  {
   "cell_type": "code",
   "execution_count": 19,
   "id": "853ac91e-b401-46e1-963d-74b061b3a793",
   "metadata": {},
   "outputs": [
    {
     "data": {
      "text/html": [
       "<div>\n",
       "<style scoped>\n",
       "    .dataframe tbody tr th:only-of-type {\n",
       "        vertical-align: middle;\n",
       "    }\n",
       "\n",
       "    .dataframe tbody tr th {\n",
       "        vertical-align: top;\n",
       "    }\n",
       "\n",
       "    .dataframe thead th {\n",
       "        text-align: right;\n",
       "    }\n",
       "</style>\n",
       "<table border=\"1\" class=\"dataframe\">\n",
       "  <thead>\n",
       "    <tr style=\"text-align: right;\">\n",
       "      <th></th>\n",
       "      <th>EmployeeNumber</th>\n",
       "      <th>Surname</th>\n",
       "      <th>GivenName</th>\n",
       "      <th>Gender</th>\n",
       "      <th>City</th>\n",
       "      <th>JobTitle</th>\n",
       "      <th>DepartmentName</th>\n",
       "      <th>StoreLocation</th>\n",
       "      <th>Division</th>\n",
       "      <th>Age</th>\n",
       "      <th>LengthService</th>\n",
       "      <th>AbsentHours</th>\n",
       "      <th>BusinessUnit</th>\n",
       "    </tr>\n",
       "  </thead>\n",
       "  <tbody>\n",
       "    <tr>\n",
       "      <th>0</th>\n",
       "      <td>1</td>\n",
       "      <td>Gutierrez</td>\n",
       "      <td>Molly</td>\n",
       "      <td>F</td>\n",
       "      <td>Burnaby</td>\n",
       "      <td>Baker</td>\n",
       "      <td>Bakery</td>\n",
       "      <td>Burnaby</td>\n",
       "      <td>Stores</td>\n",
       "      <td>32.028816</td>\n",
       "      <td>6.018478</td>\n",
       "      <td>36.577306</td>\n",
       "      <td>Stores</td>\n",
       "    </tr>\n",
       "    <tr>\n",
       "      <th>1</th>\n",
       "      <td>2</td>\n",
       "      <td>Hardwick</td>\n",
       "      <td>Stephen</td>\n",
       "      <td>M</td>\n",
       "      <td>Courtenay</td>\n",
       "      <td>Baker</td>\n",
       "      <td>Bakery</td>\n",
       "      <td>Nanaimo</td>\n",
       "      <td>Stores</td>\n",
       "      <td>40.320902</td>\n",
       "      <td>5.532445</td>\n",
       "      <td>30.165072</td>\n",
       "      <td>Stores</td>\n",
       "    </tr>\n",
       "    <tr>\n",
       "      <th>2</th>\n",
       "      <td>3</td>\n",
       "      <td>Delgado</td>\n",
       "      <td>Chester</td>\n",
       "      <td>M</td>\n",
       "      <td>Richmond</td>\n",
       "      <td>Baker</td>\n",
       "      <td>Bakery</td>\n",
       "      <td>Richmond</td>\n",
       "      <td>Stores</td>\n",
       "      <td>48.822047</td>\n",
       "      <td>4.389973</td>\n",
       "      <td>83.807798</td>\n",
       "      <td>Stores</td>\n",
       "    </tr>\n",
       "    <tr>\n",
       "      <th>3</th>\n",
       "      <td>4</td>\n",
       "      <td>Simon</td>\n",
       "      <td>Irene</td>\n",
       "      <td>F</td>\n",
       "      <td>Victoria</td>\n",
       "      <td>Baker</td>\n",
       "      <td>Bakery</td>\n",
       "      <td>Victoria</td>\n",
       "      <td>Stores</td>\n",
       "      <td>44.599357</td>\n",
       "      <td>3.081736</td>\n",
       "      <td>70.020165</td>\n",
       "      <td>Stores</td>\n",
       "    </tr>\n",
       "    <tr>\n",
       "      <th>4</th>\n",
       "      <td>5</td>\n",
       "      <td>Delvalle</td>\n",
       "      <td>Edward</td>\n",
       "      <td>M</td>\n",
       "      <td>New Westminster</td>\n",
       "      <td>Baker</td>\n",
       "      <td>Bakery</td>\n",
       "      <td>New Westminster</td>\n",
       "      <td>Stores</td>\n",
       "      <td>35.697876</td>\n",
       "      <td>3.619091</td>\n",
       "      <td>0.000000</td>\n",
       "      <td>Stores</td>\n",
       "    </tr>\n",
       "  </tbody>\n",
       "</table>\n",
       "</div>"
      ],
      "text/plain": [
       "   EmployeeNumber    Surname GivenName Gender             City JobTitle  \\\n",
       "0               1  Gutierrez     Molly      F          Burnaby    Baker   \n",
       "1               2   Hardwick   Stephen      M        Courtenay    Baker   \n",
       "2               3    Delgado   Chester      M         Richmond    Baker   \n",
       "3               4      Simon     Irene      F         Victoria    Baker   \n",
       "4               5   Delvalle    Edward      M  New Westminster    Baker   \n",
       "\n",
       "  DepartmentName    StoreLocation Division        Age  LengthService  \\\n",
       "0         Bakery          Burnaby   Stores  32.028816       6.018478   \n",
       "1         Bakery          Nanaimo   Stores  40.320902       5.532445   \n",
       "2         Bakery         Richmond   Stores  48.822047       4.389973   \n",
       "3         Bakery         Victoria   Stores  44.599357       3.081736   \n",
       "4         Bakery  New Westminster   Stores  35.697876       3.619091   \n",
       "\n",
       "   AbsentHours BusinessUnit  \n",
       "0    36.577306       Stores  \n",
       "1    30.165072       Stores  \n",
       "2    83.807798       Stores  \n",
       "3    70.020165       Stores  \n",
       "4     0.000000       Stores  "
      ]
     },
     "execution_count": 19,
     "metadata": {},
     "output_type": "execute_result"
    }
   ],
   "source": [
    "df = pd.read_csv('MFGEmployees4.csv')\n",
    "df.head()"
   ]
  },
  {
   "cell_type": "markdown",
   "id": "580a4c7d-6cc2-4537-bad7-f556bdcaba4a",
   "metadata": {},
   "source": [
    "Как видно из представленной таблицы, мы имеем 13 столбцов, один из которых представляет уровень абсентеизма."
   ]
  },
  {
   "cell_type": "code",
   "execution_count": 20,
   "id": "832d3a78-6a96-4697-ad28-8aa4000a9c1a",
   "metadata": {},
   "outputs": [
    {
     "name": "stdout",
     "output_type": "stream",
     "text": [
      "<class 'pandas.core.frame.DataFrame'>\n",
      "RangeIndex: 8336 entries, 0 to 8335\n",
      "Data columns (total 13 columns):\n",
      " #   Column          Non-Null Count  Dtype  \n",
      "---  ------          --------------  -----  \n",
      " 0   EmployeeNumber  8336 non-null   int64  \n",
      " 1   Surname         8336 non-null   object \n",
      " 2   GivenName       8336 non-null   object \n",
      " 3   Gender          8336 non-null   object \n",
      " 4   City            8336 non-null   object \n",
      " 5   JobTitle        8336 non-null   object \n",
      " 6   DepartmentName  8336 non-null   object \n",
      " 7   StoreLocation   8336 non-null   object \n",
      " 8   Division        8336 non-null   object \n",
      " 9   Age             8336 non-null   float64\n",
      " 10  LengthService   8336 non-null   float64\n",
      " 11  AbsentHours     8336 non-null   float64\n",
      " 12  BusinessUnit    8336 non-null   object \n",
      "dtypes: float64(3), int64(1), object(9)\n",
      "memory usage: 846.8+ KB\n"
     ]
    }
   ],
   "source": [
    "df.info()"
   ]
  },
  {
   "cell_type": "markdown",
   "id": "cc38bebe-615b-4d84-ae2c-c2ae91b205c1",
   "metadata": {},
   "source": [
    "Как видно из представленной информации, у нас в каждом столбце 8336 заполненных ячеек, а основным типом данных является объект (судя по таблице выше, в каждом таком столбце представлены текстовые значения)."
   ]
  },
  {
   "cell_type": "markdown",
   "id": "5d148979-942a-48ae-a11f-c39f812ad831",
   "metadata": {},
   "source": [
    "## Анализ метрик и гистограмм"
   ]
  },
  {
   "cell_type": "code",
   "execution_count": 21,
   "id": "38021373-86a7-4a3c-b11f-c9d289f109c8",
   "metadata": {},
   "outputs": [
    {
     "data": {
      "text/html": [
       "<div>\n",
       "<style scoped>\n",
       "    .dataframe tbody tr th:only-of-type {\n",
       "        vertical-align: middle;\n",
       "    }\n",
       "\n",
       "    .dataframe tbody tr th {\n",
       "        vertical-align: top;\n",
       "    }\n",
       "\n",
       "    .dataframe thead th {\n",
       "        text-align: right;\n",
       "    }\n",
       "</style>\n",
       "<table border=\"1\" class=\"dataframe\">\n",
       "  <thead>\n",
       "    <tr style=\"text-align: right;\">\n",
       "      <th></th>\n",
       "      <th>EmployeeNumber</th>\n",
       "      <th>Age</th>\n",
       "      <th>LengthService</th>\n",
       "      <th>AbsentHours</th>\n",
       "    </tr>\n",
       "  </thead>\n",
       "  <tbody>\n",
       "    <tr>\n",
       "      <th>count</th>\n",
       "      <td>8336.000000</td>\n",
       "      <td>8336.000000</td>\n",
       "      <td>8336.000000</td>\n",
       "      <td>8336.000000</td>\n",
       "    </tr>\n",
       "    <tr>\n",
       "      <th>mean</th>\n",
       "      <td>4168.500000</td>\n",
       "      <td>42.007086</td>\n",
       "      <td>4.782910</td>\n",
       "      <td>61.283978</td>\n",
       "    </tr>\n",
       "    <tr>\n",
       "      <th>std</th>\n",
       "      <td>2406.540255</td>\n",
       "      <td>9.939798</td>\n",
       "      <td>2.462990</td>\n",
       "      <td>49.038365</td>\n",
       "    </tr>\n",
       "    <tr>\n",
       "      <th>min</th>\n",
       "      <td>1.000000</td>\n",
       "      <td>3.504743</td>\n",
       "      <td>0.012098</td>\n",
       "      <td>0.000000</td>\n",
       "    </tr>\n",
       "    <tr>\n",
       "      <th>25%</th>\n",
       "      <td>2084.750000</td>\n",
       "      <td>35.298748</td>\n",
       "      <td>3.575892</td>\n",
       "      <td>19.127590</td>\n",
       "    </tr>\n",
       "    <tr>\n",
       "      <th>50%</th>\n",
       "      <td>4168.500000</td>\n",
       "      <td>42.114924</td>\n",
       "      <td>4.600248</td>\n",
       "      <td>56.005808</td>\n",
       "    </tr>\n",
       "    <tr>\n",
       "      <th>75%</th>\n",
       "      <td>6252.250000</td>\n",
       "      <td>48.666943</td>\n",
       "      <td>5.623922</td>\n",
       "      <td>94.284692</td>\n",
       "    </tr>\n",
       "    <tr>\n",
       "      <th>max</th>\n",
       "      <td>8336.000000</td>\n",
       "      <td>77.938003</td>\n",
       "      <td>43.735239</td>\n",
       "      <td>272.530123</td>\n",
       "    </tr>\n",
       "  </tbody>\n",
       "</table>\n",
       "</div>"
      ],
      "text/plain": [
       "       EmployeeNumber          Age  LengthService  AbsentHours\n",
       "count     8336.000000  8336.000000    8336.000000  8336.000000\n",
       "mean      4168.500000    42.007086       4.782910    61.283978\n",
       "std       2406.540255     9.939798       2.462990    49.038365\n",
       "min          1.000000     3.504743       0.012098     0.000000\n",
       "25%       2084.750000    35.298748       3.575892    19.127590\n",
       "50%       4168.500000    42.114924       4.600248    56.005808\n",
       "75%       6252.250000    48.666943       5.623922    94.284692\n",
       "max       8336.000000    77.938003      43.735239   272.530123"
      ]
     },
     "execution_count": 21,
     "metadata": {},
     "output_type": "execute_result"
    }
   ],
   "source": [
    "df.describe()"
   ]
  },
  {
   "cell_type": "markdown",
   "id": "78ae2fd9-1cd7-43c5-bddc-976393495cbe",
   "metadata": {},
   "source": [
    "Как видно из представленной таблицы, у нас значение 50% часов абсетнеизма чуть ниже среднего значения. Также достаточно сильно возрасло максимальное значение по сравнению со значением 75% квантиля."
   ]
  },
  {
   "cell_type": "code",
   "execution_count": 22,
   "id": "b6da2803-1d8f-438f-aff7-bf50ff8c2f3e",
   "metadata": {},
   "outputs": [
    {
     "data": {
      "image/png": "[encoded data removed]",
      "text/plain": [
       "<Figure size 1440x1440 with 4 Axes>"
      ]
     },
     "metadata": {
      "needs_background": "light"
     },
     "output_type": "display_data"
    }
   ],
   "source": [
    "df.hist(figsize=(20,20))\n",
    "plt.show()"
   ]
  },
  {
   "cell_type": "markdown",
   "id": "4ba7f721-5b45-459a-b566-c85d405afc8f",
   "metadata": {},
   "source": [
    "Наиболее распространен возраст работников от 41 до 47 лет. Продолжительность службы - от 4 до 8 лет, а уровень абсентеизма - до 30 часов."
   ]
  },
  {
   "cell_type": "code",
   "execution_count": 49,
   "id": "4edb7d3d-493e-4e0e-aeae-9c6df6f362f0",
   "metadata": {},
   "outputs": [
    {
     "data": {
      "text/plain": [
       "(array([1464., 1780., 1546., 1506.,    4.,   77.,    5.,   39.,    5.,\n",
       "        1910.]),\n",
       " array([ 0. ,  4.6,  9.2, 13.8, 18.4, 23. , 27.6, 32.2, 36.8, 41.4, 46. ]),\n",
       " <BarContainer object of 10 artists>)"
      ]
     },
     "execution_count": 49,
     "metadata": {},
     "output_type": "execute_result"
    },
    {
     "data": {
      "image/png": "[encoded data removed]",
      "text/plain": [
       "<Figure size 432x288 with 1 Axes>"
      ]
     },
     "metadata": {
      "needs_background": "light"
     },
     "output_type": "display_data"
    }
   ],
   "source": [
    "plt.hist(df['JobTitle'])"
   ]
  },
  {
   "cell_type": "markdown",
   "id": "fc5066f9-5dfc-44f9-a2cf-6a760666f06b",
   "metadata": {},
   "source": [
    "Сотрудники с некоторыми профессиями имеют большой отрыв по абсентеизму."
   ]
  },
  {
   "cell_type": "code",
   "execution_count": 50,
   "id": "a0065741-4287-4251-915f-d23cbd18ae48",
   "metadata": {},
   "outputs": [
    {
     "data": {
      "text/plain": [
       "(array([4120.,    0.,    0.,    0.,    0.,    0.,    0.,    0.,    0.,\n",
       "        4216.]),\n",
       " array([0. , 0.1, 0.2, 0.3, 0.4, 0.5, 0.6, 0.7, 0.8, 0.9, 1. ]),\n",
       " <BarContainer object of 10 artists>)"
      ]
     },
     "execution_count": 50,
     "metadata": {},
     "output_type": "execute_result"
    },
    {
     "data": {
      "image/png": "[encoded data removed]",
      "text/plain": [
       "<Figure size 432x288 with 1 Axes>"
      ]
     },
     "metadata": {
      "needs_background": "light"
     },
     "output_type": "display_data"
    }
   ],
   "source": [
    "plt.hist(df['Gender'])"
   ]
  },
  {
   "cell_type": "markdown",
   "id": "4d5adbab-55ff-4722-8a04-e61dd6bd3cb5",
   "metadata": {},
   "source": [
    "Мужчин незначительно больше женщин."
   ]
  },
  {
   "cell_type": "markdown",
   "id": "7e56e312-0f2c-487c-928c-9bfbdd56cd4e",
   "metadata": {},
   "source": [
    "## Удаление аномальных значений"
   ]
  },
  {
   "cell_type": "code",
   "execution_count": 65,
   "id": "566bd2cd-1d94-4649-928b-32eaeda2aeac",
   "metadata": {},
   "outputs": [],
   "source": [
    "df['anomally_Age'] = np.where(\n",
    "                            df['Age'] > \n",
    "                            np.mean(df.Age) + 3*np.std(df.Age),                 \n",
    "                            1, 0)\n",
    "df_anomally_Age = df[df['Age'] == 1]\n",
    "\n",
    "df=df.drop(df_anomally_Age.index)"
   ]
  },
  {
   "cell_type": "code",
   "execution_count": 64,
   "id": "f504d206-052f-454b-9e94-5144d6e135b3",
   "metadata": {},
   "outputs": [],
   "source": [
    "df['anomally_LengthService'] = np.where(\n",
    "                            df['LengthService'] > \n",
    "                            np.mean(df.LengthService) + 3*np.std(df.LengthService),                 \n",
    "                            1, 0)\n",
    "df_anomally_LengthService = df[df['LengthService'] == 1]\n",
    "\n",
    "df=df.drop(df_anomally_LengthService.index)"
   ]
  },
  {
   "cell_type": "code",
   "execution_count": 62,
   "id": "64505bbf-6f55-47da-92fc-840ca709c251",
   "metadata": {},
   "outputs": [],
   "source": [
    "df['anomally_AbsentHours'] = np.where(\n",
    "                            df['AbsentHours'] > \n",
    "                            np.mean(df.AbsentHours) + 3*np.std(df.AbsentHours),                 \n",
    "                            1, 0)\n",
    "df_anomally_AbsentHours = df[df['AbsentHours'] == 1]\n",
    "\n",
    "df=df.drop(df_anomally_AbsentHours.index)"
   ]
  },
  {
   "cell_type": "code",
   "execution_count": 63,
   "id": "1280efca-3236-4a49-8afd-4fb0ed333358",
   "metadata": {},
   "outputs": [],
   "source": [
    "df['anomally_EmployeeNumber'] = np.where(\n",
    "                            df['EmployeeNumber'] > \n",
    "                            np.mean(df.EmployeeNumber) + 3*np.std(df.EmployeeNumber),                 \n",
    "                            1, 0)\n",
    "df_anomally_EmployeeNumber = df[df['EmployeeNumber'] == 1]\n",
    "\n",
    "df=df.drop(df_anomally_EmployeeNumber.index)"
   ]
  },
  {
   "cell_type": "markdown",
   "id": "803b0387-1c59-48a4-94f3-6ab8dc9b7e36",
   "metadata": {},
   "source": [
    "Перед выполнением аналитической обработки мы удалили аномальные значения, поскольку они могут вызвать некорректную работу алгоритмов и привести к искажению результатов анализа данных."
   ]
  },
  {
   "cell_type": "markdown",
   "id": "53582484-01c0-488e-bd6c-f209dfa23ff9",
   "metadata": {},
   "source": [
    "## Проведение train и test"
   ]
  },
  {
   "cell_type": "code",
   "execution_count": 114,
   "id": "b6e21ec4-4989-4caf-80c9-ae2480c4e563",
   "metadata": {},
   "outputs": [
    {
     "data": {
      "text/html": [
       "<div>\n",
       "<style scoped>\n",
       "    .dataframe tbody tr th:only-of-type {\n",
       "        vertical-align: middle;\n",
       "    }\n",
       "\n",
       "    .dataframe tbody tr th {\n",
       "        vertical-align: top;\n",
       "    }\n",
       "\n",
       "    .dataframe thead th {\n",
       "        text-align: right;\n",
       "    }\n",
       "</style>\n",
       "<table border=\"1\" class=\"dataframe\">\n",
       "  <thead>\n",
       "    <tr style=\"text-align: right;\">\n",
       "      <th></th>\n",
       "      <th>EmployeeNumber</th>\n",
       "      <th>Surname</th>\n",
       "      <th>GivenName</th>\n",
       "      <th>Gender</th>\n",
       "      <th>City</th>\n",
       "      <th>JobTitle</th>\n",
       "      <th>DepartmentName</th>\n",
       "      <th>StoreLocation</th>\n",
       "      <th>Division</th>\n",
       "      <th>Age</th>\n",
       "      <th>LengthService</th>\n",
       "      <th>AbsentHours</th>\n",
       "      <th>BusinessUnit</th>\n",
       "      <th>anomally_satisfaction_level</th>\n",
       "      <th>anomally_Age</th>\n",
       "      <th>anomally_LengthService</th>\n",
       "      <th>anomally_AbsentHours</th>\n",
       "      <th>anomally_EmployeeNumber</th>\n",
       "    </tr>\n",
       "  </thead>\n",
       "  <tbody>\n",
       "    <tr>\n",
       "      <th>1</th>\n",
       "      <td>2</td>\n",
       "      <td>Hardwick</td>\n",
       "      <td>Stephen</td>\n",
       "      <td>M</td>\n",
       "      <td>Courtenay</td>\n",
       "      <td>Baker</td>\n",
       "      <td>Bakery</td>\n",
       "      <td>Nanaimo</td>\n",
       "      <td>Stores</td>\n",
       "      <td>40.320902</td>\n",
       "      <td>5.532445</td>\n",
       "      <td>30.165072</td>\n",
       "      <td>Stores</td>\n",
       "      <td>0</td>\n",
       "      <td>0</td>\n",
       "      <td>0</td>\n",
       "      <td>0</td>\n",
       "      <td>0</td>\n",
       "    </tr>\n",
       "    <tr>\n",
       "      <th>2</th>\n",
       "      <td>3</td>\n",
       "      <td>Delgado</td>\n",
       "      <td>Chester</td>\n",
       "      <td>M</td>\n",
       "      <td>Richmond</td>\n",
       "      <td>Baker</td>\n",
       "      <td>Bakery</td>\n",
       "      <td>Richmond</td>\n",
       "      <td>Stores</td>\n",
       "      <td>48.822047</td>\n",
       "      <td>4.389973</td>\n",
       "      <td>83.807798</td>\n",
       "      <td>Stores</td>\n",
       "      <td>0</td>\n",
       "      <td>0</td>\n",
       "      <td>0</td>\n",
       "      <td>0</td>\n",
       "      <td>0</td>\n",
       "    </tr>\n",
       "    <tr>\n",
       "      <th>3</th>\n",
       "      <td>4</td>\n",
       "      <td>Simon</td>\n",
       "      <td>Irene</td>\n",
       "      <td>F</td>\n",
       "      <td>Victoria</td>\n",
       "      <td>Baker</td>\n",
       "      <td>Bakery</td>\n",
       "      <td>Victoria</td>\n",
       "      <td>Stores</td>\n",
       "      <td>44.599357</td>\n",
       "      <td>3.081736</td>\n",
       "      <td>70.020165</td>\n",
       "      <td>Stores</td>\n",
       "      <td>0</td>\n",
       "      <td>0</td>\n",
       "      <td>0</td>\n",
       "      <td>0</td>\n",
       "      <td>0</td>\n",
       "    </tr>\n",
       "    <tr>\n",
       "      <th>4</th>\n",
       "      <td>5</td>\n",
       "      <td>Delvalle</td>\n",
       "      <td>Edward</td>\n",
       "      <td>M</td>\n",
       "      <td>New Westminster</td>\n",
       "      <td>Baker</td>\n",
       "      <td>Bakery</td>\n",
       "      <td>New Westminster</td>\n",
       "      <td>Stores</td>\n",
       "      <td>35.697876</td>\n",
       "      <td>3.619091</td>\n",
       "      <td>0.000000</td>\n",
       "      <td>Stores</td>\n",
       "      <td>0</td>\n",
       "      <td>0</td>\n",
       "      <td>0</td>\n",
       "      <td>0</td>\n",
       "      <td>0</td>\n",
       "    </tr>\n",
       "    <tr>\n",
       "      <th>5</th>\n",
       "      <td>6</td>\n",
       "      <td>Jones</td>\n",
       "      <td>Ernie</td>\n",
       "      <td>M</td>\n",
       "      <td>Richmond</td>\n",
       "      <td>Baker</td>\n",
       "      <td>Bakery</td>\n",
       "      <td>Richmond</td>\n",
       "      <td>Stores</td>\n",
       "      <td>48.440311</td>\n",
       "      <td>2.717692</td>\n",
       "      <td>81.830079</td>\n",
       "      <td>Stores</td>\n",
       "      <td>0</td>\n",
       "      <td>0</td>\n",
       "      <td>0</td>\n",
       "      <td>0</td>\n",
       "      <td>0</td>\n",
       "    </tr>\n",
       "    <tr>\n",
       "      <th>...</th>\n",
       "      <td>...</td>\n",
       "      <td>...</td>\n",
       "      <td>...</td>\n",
       "      <td>...</td>\n",
       "      <td>...</td>\n",
       "      <td>...</td>\n",
       "      <td>...</td>\n",
       "      <td>...</td>\n",
       "      <td>...</td>\n",
       "      <td>...</td>\n",
       "      <td>...</td>\n",
       "      <td>...</td>\n",
       "      <td>...</td>\n",
       "      <td>...</td>\n",
       "      <td>...</td>\n",
       "      <td>...</td>\n",
       "      <td>...</td>\n",
       "      <td>...</td>\n",
       "    </tr>\n",
       "    <tr>\n",
       "      <th>8331</th>\n",
       "      <td>8332</td>\n",
       "      <td>Coniglio</td>\n",
       "      <td>Bianca</td>\n",
       "      <td>F</td>\n",
       "      <td>Langley</td>\n",
       "      <td>Cashier</td>\n",
       "      <td>Customer Service</td>\n",
       "      <td>Langley</td>\n",
       "      <td>Stores</td>\n",
       "      <td>46.057544</td>\n",
       "      <td>4.838288</td>\n",
       "      <td>93.665111</td>\n",
       "      <td>Stores</td>\n",
       "      <td>0</td>\n",
       "      <td>0</td>\n",
       "      <td>0</td>\n",
       "      <td>0</td>\n",
       "      <td>0</td>\n",
       "    </tr>\n",
       "    <tr>\n",
       "      <th>8332</th>\n",
       "      <td>8333</td>\n",
       "      <td>Cox</td>\n",
       "      <td>Jimmie</td>\n",
       "      <td>M</td>\n",
       "      <td>Montney</td>\n",
       "      <td>Cashier</td>\n",
       "      <td>Customer Service</td>\n",
       "      <td>Fort St John</td>\n",
       "      <td>Stores</td>\n",
       "      <td>34.455490</td>\n",
       "      <td>2.427274</td>\n",
       "      <td>0.000000</td>\n",
       "      <td>Stores</td>\n",
       "      <td>0</td>\n",
       "      <td>0</td>\n",
       "      <td>0</td>\n",
       "      <td>0</td>\n",
       "      <td>0</td>\n",
       "    </tr>\n",
       "    <tr>\n",
       "      <th>8333</th>\n",
       "      <td>8334</td>\n",
       "      <td>Hawkins</td>\n",
       "      <td>Mary</td>\n",
       "      <td>F</td>\n",
       "      <td>West Vancouver</td>\n",
       "      <td>Cashier</td>\n",
       "      <td>Customer Service</td>\n",
       "      <td>West Vancouver</td>\n",
       "      <td>Stores</td>\n",
       "      <td>58.347160</td>\n",
       "      <td>4.009393</td>\n",
       "      <td>176.356940</td>\n",
       "      <td>Stores</td>\n",
       "      <td>0</td>\n",
       "      <td>0</td>\n",
       "      <td>0</td>\n",
       "      <td>0</td>\n",
       "      <td>0</td>\n",
       "    </tr>\n",
       "    <tr>\n",
       "      <th>8334</th>\n",
       "      <td>8335</td>\n",
       "      <td>Proctor</td>\n",
       "      <td>Theresa</td>\n",
       "      <td>F</td>\n",
       "      <td>Vancouver</td>\n",
       "      <td>Dairy Person</td>\n",
       "      <td>Dairy</td>\n",
       "      <td>Vancouver</td>\n",
       "      <td>Stores</td>\n",
       "      <td>43.340616</td>\n",
       "      <td>6.154837</td>\n",
       "      <td>60.321917</td>\n",
       "      <td>Stores</td>\n",
       "      <td>0</td>\n",
       "      <td>0</td>\n",
       "      <td>0</td>\n",
       "      <td>0</td>\n",
       "      <td>0</td>\n",
       "    </tr>\n",
       "    <tr>\n",
       "      <th>8335</th>\n",
       "      <td>8336</td>\n",
       "      <td>Salter</td>\n",
       "      <td>Charles</td>\n",
       "      <td>M</td>\n",
       "      <td>Vancouver</td>\n",
       "      <td>Dairy Person</td>\n",
       "      <td>Dairy</td>\n",
       "      <td>Vancouver</td>\n",
       "      <td>Stores</td>\n",
       "      <td>46.192782</td>\n",
       "      <td>5.174722</td>\n",
       "      <td>112.023389</td>\n",
       "      <td>Stores</td>\n",
       "      <td>0</td>\n",
       "      <td>0</td>\n",
       "      <td>0</td>\n",
       "      <td>0</td>\n",
       "      <td>0</td>\n",
       "    </tr>\n",
       "  </tbody>\n",
       "</table>\n",
       "<p>8318 rows × 18 columns</p>\n",
       "</div>"
      ],
      "text/plain": [
       "      EmployeeNumber   Surname GivenName Gender             City  \\\n",
       "1                  2  Hardwick   Stephen      M        Courtenay   \n",
       "2                  3   Delgado   Chester      M         Richmond   \n",
       "3                  4     Simon     Irene      F         Victoria   \n",
       "4                  5  Delvalle    Edward      M  New Westminster   \n",
       "5                  6     Jones     Ernie      M         Richmond   \n",
       "...              ...       ...       ...    ...              ...   \n",
       "8331            8332  Coniglio    Bianca      F          Langley   \n",
       "8332            8333       Cox    Jimmie      M          Montney   \n",
       "8333            8334   Hawkins      Mary      F   West Vancouver   \n",
       "8334            8335   Proctor   Theresa      F        Vancouver   \n",
       "8335            8336    Salter   Charles      M        Vancouver   \n",
       "\n",
       "          JobTitle    DepartmentName    StoreLocation Division        Age  \\\n",
       "1            Baker            Bakery          Nanaimo   Stores  40.320902   \n",
       "2            Baker            Bakery         Richmond   Stores  48.822047   \n",
       "3            Baker            Bakery         Victoria   Stores  44.599357   \n",
       "4            Baker            Bakery  New Westminster   Stores  35.697876   \n",
       "5            Baker            Bakery         Richmond   Stores  48.440311   \n",
       "...            ...               ...              ...      ...        ...   \n",
       "8331       Cashier  Customer Service          Langley   Stores  46.057544   \n",
       "8332       Cashier  Customer Service     Fort St John   Stores  34.455490   \n",
       "8333       Cashier  Customer Service   West Vancouver   Stores  58.347160   \n",
       "8334  Dairy Person             Dairy        Vancouver   Stores  43.340616   \n",
       "8335  Dairy Person             Dairy        Vancouver   Stores  46.192782   \n",
       "\n",
       "      LengthService  AbsentHours BusinessUnit  anomally_satisfaction_level  \\\n",
       "1          5.532445    30.165072       Stores                            0   \n",
       "2          4.389973    83.807798       Stores                            0   \n",
       "3          3.081736    70.020165       Stores                            0   \n",
       "4          3.619091     0.000000       Stores                            0   \n",
       "5          2.717692    81.830079       Stores                            0   \n",
       "...             ...          ...          ...                          ...   \n",
       "8331       4.838288    93.665111       Stores                            0   \n",
       "8332       2.427274     0.000000       Stores                            0   \n",
       "8333       4.009393   176.356940       Stores                            0   \n",
       "8334       6.154837    60.321917       Stores                            0   \n",
       "8335       5.174722   112.023389       Stores                            0   \n",
       "\n",
       "      anomally_Age  anomally_LengthService  anomally_AbsentHours  \\\n",
       "1                0                       0                     0   \n",
       "2                0                       0                     0   \n",
       "3                0                       0                     0   \n",
       "4                0                       0                     0   \n",
       "5                0                       0                     0   \n",
       "...            ...                     ...                   ...   \n",
       "8331             0                       0                     0   \n",
       "8332             0                       0                     0   \n",
       "8333             0                       0                     0   \n",
       "8334             0                       0                     0   \n",
       "8335             0                       0                     0   \n",
       "\n",
       "      anomally_EmployeeNumber  \n",
       "1                           0  \n",
       "2                           0  \n",
       "3                           0  \n",
       "4                           0  \n",
       "5                           0  \n",
       "...                       ...  \n",
       "8331                        0  \n",
       "8332                        0  \n",
       "8333                        0  \n",
       "8334                        0  \n",
       "8335                        0  \n",
       "\n",
       "[8318 rows x 18 columns]"
      ]
     },
     "execution_count": 114,
     "metadata": {},
     "output_type": "execute_result"
    }
   ],
   "source": [
    "df"
   ]
  },
  {
   "cell_type": "code",
   "execution_count": 101,
   "id": "53f80b44-0ba3-420f-8b4c-5f1f6c68dbce",
   "metadata": {},
   "outputs": [],
   "source": [
    "X = df[['LengthService', 'Age']]\n",
    "\n",
    "y = df[['AbsentHours']].values.ravel()"
   ]
  },
  {
   "cell_type": "code",
   "execution_count": 118,
   "id": "1af65790-cd35-4d40-8f28-d871712c6b20",
   "metadata": {},
   "outputs": [
    {
     "name": "stderr",
     "output_type": "stream",
     "text": [
      "<ipython-input-118-7f99f3c48675>:1: SettingWithCopyWarning: \n",
      "A value is trying to be set on a copy of a slice from a DataFrame.\n",
      "Try using .loc[row_indexer,col_indexer] = value instead\n",
      "\n",
      "See the caveats in the documentation: https://pandas.pydata.org/pandas-docs/stable/user_guide/indexing.html#returning-a-view-versus-a-copy\n",
      "  X['Gender'] = np.where(df[\"Gender\"] == 'M', 0, 1)\n"
     ]
    }
   ],
   "source": [
    "X['Gender'] = np.where(df[\"Gender\"] == 'M', 0, 1)"
   ]
  },
  {
   "cell_type": "code",
   "execution_count": 120,
   "id": "1744e9ee-bb76-4644-8706-bb6e6a1a55d6",
   "metadata": {},
   "outputs": [
    {
     "data": {
      "text/html": [
       "<div>\n",
       "<style scoped>\n",
       "    .dataframe tbody tr th:only-of-type {\n",
       "        vertical-align: middle;\n",
       "    }\n",
       "\n",
       "    .dataframe tbody tr th {\n",
       "        vertical-align: top;\n",
       "    }\n",
       "\n",
       "    .dataframe thead th {\n",
       "        text-align: right;\n",
       "    }\n",
       "</style>\n",
       "<table border=\"1\" class=\"dataframe\">\n",
       "  <thead>\n",
       "    <tr style=\"text-align: right;\">\n",
       "      <th></th>\n",
       "      <th>LengthService</th>\n",
       "      <th>Age</th>\n",
       "      <th>Gender</th>\n",
       "    </tr>\n",
       "  </thead>\n",
       "  <tbody>\n",
       "    <tr>\n",
       "      <th>1</th>\n",
       "      <td>5.532445</td>\n",
       "      <td>40.320902</td>\n",
       "      <td>0</td>\n",
       "    </tr>\n",
       "    <tr>\n",
       "      <th>2</th>\n",
       "      <td>4.389973</td>\n",
       "      <td>48.822047</td>\n",
       "      <td>0</td>\n",
       "    </tr>\n",
       "    <tr>\n",
       "      <th>3</th>\n",
       "      <td>3.081736</td>\n",
       "      <td>44.599357</td>\n",
       "      <td>1</td>\n",
       "    </tr>\n",
       "    <tr>\n",
       "      <th>4</th>\n",
       "      <td>3.619091</td>\n",
       "      <td>35.697876</td>\n",
       "      <td>0</td>\n",
       "    </tr>\n",
       "    <tr>\n",
       "      <th>5</th>\n",
       "      <td>2.717692</td>\n",
       "      <td>48.440311</td>\n",
       "      <td>0</td>\n",
       "    </tr>\n",
       "    <tr>\n",
       "      <th>...</th>\n",
       "      <td>...</td>\n",
       "      <td>...</td>\n",
       "      <td>...</td>\n",
       "    </tr>\n",
       "    <tr>\n",
       "      <th>8331</th>\n",
       "      <td>4.838288</td>\n",
       "      <td>46.057544</td>\n",
       "      <td>1</td>\n",
       "    </tr>\n",
       "    <tr>\n",
       "      <th>8332</th>\n",
       "      <td>2.427274</td>\n",
       "      <td>34.455490</td>\n",
       "      <td>0</td>\n",
       "    </tr>\n",
       "    <tr>\n",
       "      <th>8333</th>\n",
       "      <td>4.009393</td>\n",
       "      <td>58.347160</td>\n",
       "      <td>1</td>\n",
       "    </tr>\n",
       "    <tr>\n",
       "      <th>8334</th>\n",
       "      <td>6.154837</td>\n",
       "      <td>43.340616</td>\n",
       "      <td>1</td>\n",
       "    </tr>\n",
       "    <tr>\n",
       "      <th>8335</th>\n",
       "      <td>5.174722</td>\n",
       "      <td>46.192782</td>\n",
       "      <td>0</td>\n",
       "    </tr>\n",
       "  </tbody>\n",
       "</table>\n",
       "<p>8318 rows × 3 columns</p>\n",
       "</div>"
      ],
      "text/plain": [
       "      LengthService        Age  Gender\n",
       "1          5.532445  40.320902       0\n",
       "2          4.389973  48.822047       0\n",
       "3          3.081736  44.599357       1\n",
       "4          3.619091  35.697876       0\n",
       "5          2.717692  48.440311       0\n",
       "...             ...        ...     ...\n",
       "8331       4.838288  46.057544       1\n",
       "8332       2.427274  34.455490       0\n",
       "8333       4.009393  58.347160       1\n",
       "8334       6.154837  43.340616       1\n",
       "8335       5.174722  46.192782       0\n",
       "\n",
       "[8318 rows x 3 columns]"
      ]
     },
     "execution_count": 120,
     "metadata": {},
     "output_type": "execute_result"
    }
   ],
   "source": [
    "X"
   ]
  },
  {
   "cell_type": "code",
   "execution_count": 121,
   "id": "cfd62aca-53d6-4d37-aeb6-301ea974566b",
   "metadata": {},
   "outputs": [
    {
     "data": {
      "text/plain": [
       "array([ 30.16507231,  83.80779766,  70.02016505, ..., 176.3569396 ,\n",
       "        60.3219172 , 112.0233888 ])"
      ]
     },
     "execution_count": 121,
     "metadata": {},
     "output_type": "execute_result"
    }
   ],
   "source": [
    "y"
   ]
  },
  {
   "cell_type": "code",
   "execution_count": 122,
   "id": "e95cd752-bb14-4915-b0f6-1f15ec326ea0",
   "metadata": {},
   "outputs": [],
   "source": [
    "from sklearn.model_selection import train_test_split"
   ]
  },
  {
   "cell_type": "code",
   "execution_count": 123,
   "id": "76619ecf-1d01-4a94-9cb0-1338426ce40e",
   "metadata": {},
   "outputs": [
    {
     "name": "stdout",
     "output_type": "stream",
     "text": [
      "(6654, 3)\n",
      "(1664, 3)\n",
      "(6654,)\n",
      "(1664,)\n"
     ]
    }
   ],
   "source": [
    "X_train, X_test, Y_train, Y_test = train_test_split(X, y, test_size = 0.2, random_state=42)\n",
    "\n",
    "print(X_train.shape)\n",
    "print(X_test.shape)\n",
    "print(Y_train.shape)\n",
    "print(Y_test.shape)"
   ]
  },
  {
   "cell_type": "code",
   "execution_count": 124,
   "id": "94d16449-6ce7-46cb-a3df-195cec977e98",
   "metadata": {},
   "outputs": [
    {
     "data": {
      "text/plain": [
       "array([170.0396297 ,   0.        ,  81.65459515, ...,  97.17956536,\n",
       "         0.        ,   0.        ])"
      ]
     },
     "execution_count": 124,
     "metadata": {},
     "output_type": "execute_result"
    }
   ],
   "source": [
    "Y_test"
   ]
  },
  {
   "cell_type": "markdown",
   "id": "491cb212-7bd6-44fe-b28b-f78c1f290572",
   "metadata": {},
   "source": [
    "## Обучение линейной регрессии"
   ]
  },
  {
   "cell_type": "code",
   "execution_count": 125,
   "id": "c3e06264-efc2-438f-9d06-98b0584b77bb",
   "metadata": {},
   "outputs": [],
   "source": [
    "from sklearn.datasets import make_regression\n",
    "from sklearn.linear_model import LinearRegression\n",
    "\n",
    "from matplotlib import pyplot"
   ]
  },
  {
   "cell_type": "code",
   "execution_count": 126,
   "id": "0c60b2ea-fc47-494f-9626-d8a5f69ec388",
   "metadata": {},
   "outputs": [],
   "source": [
    "lin_model = LinearRegression()"
   ]
  },
  {
   "cell_type": "code",
   "execution_count": 127,
   "id": "34887a2b-43a7-420d-8a1b-c3db06333635",
   "metadata": {},
   "outputs": [
    {
     "data": {
      "text/plain": [
       "LinearRegression()"
      ]
     },
     "execution_count": 127,
     "metadata": {},
     "output_type": "execute_result"
    }
   ],
   "source": [
    "lin_model.fit(X_train, Y_train)"
   ]
  },
  {
   "cell_type": "code",
   "execution_count": 139,
   "id": "f65860fe-de0e-401c-81f3-978af52f0b57",
   "metadata": {},
   "outputs": [],
   "source": [
    "names = ['LengthService', 'Age', 'Gender']"
   ]
  },
  {
   "cell_type": "code",
   "execution_count": 142,
   "id": "cd422c59-a6ec-49df-bcf3-c31384195c61",
   "metadata": {},
   "outputs": [
    {
     "name": "stdout",
     "output_type": "stream",
     "text": [
      "LengthService -1.8033918450061992\n",
      "Age 4.161799353256304\n",
      "Gender 16.854154616325303\n"
     ]
    }
   ],
   "source": [
    "importance = lin_model.coef_\n",
    "for i in range(len(names)):\n",
    "    print(names[i], importance[i])"
   ]
  },
  {
   "cell_type": "code",
   "execution_count": 129,
   "id": "f7620336-34b2-48f4-817a-a774b0bee11a",
   "metadata": {},
   "outputs": [],
   "source": [
    "from sklearn.metrics import mean_squared_error\n",
    "from sklearn.metrics import r2_score"
   ]
  },
  {
   "cell_type": "code",
   "execution_count": 130,
   "id": "e16afab9-ba3d-40fe-9061-485ef6126d56",
   "metadata": {},
   "outputs": [],
   "source": [
    "def model_access(lin_model, X_train, X_test, Y_train, Y_test):\n",
    "\n",
    "    y_train_predict = lin_model.predict(X_train)\n",
    "    rmse = (np.sqrt(mean_squared_error(Y_train, y_train_predict)))\n",
    "    r2 = r2_score(Y_train, y_train_predict)\n",
    "\n",
    "    \n",
    "    print(\"\\n\")\n",
    "    print(\"The model performance for training set\")\n",
    "    print(\"--------------------------------------\")\n",
    "    print('RMSE is {}'.format(rmse))\n",
    "    print('R2 score is {}'.format(r2))\n",
    "    print(\"--------------------------------------\")\n",
    "    print(\"\\n\")\n",
    "\n",
    "    \n",
    "    y_test_predict = lin_model.predict(X_test)\n",
    "    rmse = (np.sqrt(mean_squared_error(Y_test, y_test_predict)))\n",
    "    r2 = r2_score(Y_test, y_test_predict)\n",
    "\n",
    "    print(\"The model performance for testing set\")\n",
    "    print(\"--------------------------------------\")\n",
    "    print('RMSE is {}'.format(rmse))\n",
    "    print('R2 score is {}'.format(r2))"
   ]
  },
  {
   "cell_type": "markdown",
   "id": "0f494985-19df-465d-a8c8-c70d1be09eaf",
   "metadata": {},
   "source": [
    "## RMSE и R2"
   ]
  },
  {
   "cell_type": "code",
   "execution_count": 133,
   "id": "6d076e82-5826-4259-a486-cd910c5aa4a6",
   "metadata": {},
   "outputs": [
    {
     "name": "stdout",
     "output_type": "stream",
     "text": [
      "\n",
      "\n",
      "The model performance for training set\n",
      "--------------------------------------\n",
      "RMSE is 25.53960414745513\n",
      "R2 score is 0.7283163876093441\n",
      "--------------------------------------\n",
      "\n",
      "\n",
      "The model performance for testing set\n",
      "--------------------------------------\n",
      "RMSE is 25.91708762516392\n",
      "R2 score is 0.7223316053710198\n"
     ]
    }
   ],
   "source": [
    "model_access(lin_model, X_train, X_test, Y_train, Y_test)"
   ]
  },
  {
   "cell_type": "code",
   "execution_count": 134,
   "id": "455a21f4-329d-4893-a7f8-116d71dfd9d7",
   "metadata": {},
   "outputs": [
    {
     "data": {
      "text/html": [
       "<div>\n",
       "<style scoped>\n",
       "    .dataframe tbody tr th:only-of-type {\n",
       "        vertical-align: middle;\n",
       "    }\n",
       "\n",
       "    .dataframe tbody tr th {\n",
       "        vertical-align: top;\n",
       "    }\n",
       "\n",
       "    .dataframe thead th {\n",
       "        text-align: right;\n",
       "    }\n",
       "</style>\n",
       "<table border=\"1\" class=\"dataframe\">\n",
       "  <thead>\n",
       "    <tr style=\"text-align: right;\">\n",
       "      <th></th>\n",
       "      <th>LengthService</th>\n",
       "      <th>Age</th>\n",
       "      <th>Gender</th>\n",
       "    </tr>\n",
       "  </thead>\n",
       "  <tbody>\n",
       "    <tr>\n",
       "      <th>5297</th>\n",
       "      <td>2.971644</td>\n",
       "      <td>58.275661</td>\n",
       "      <td>1</td>\n",
       "    </tr>\n",
       "    <tr>\n",
       "      <th>743</th>\n",
       "      <td>3.849750</td>\n",
       "      <td>32.830994</td>\n",
       "      <td>1</td>\n",
       "    </tr>\n",
       "    <tr>\n",
       "      <th>7561</th>\n",
       "      <td>5.556229</td>\n",
       "      <td>49.920768</td>\n",
       "      <td>0</td>\n",
       "    </tr>\n",
       "    <tr>\n",
       "      <th>3152</th>\n",
       "      <td>2.199341</td>\n",
       "      <td>22.321566</td>\n",
       "      <td>0</td>\n",
       "    </tr>\n",
       "    <tr>\n",
       "      <th>2330</th>\n",
       "      <td>3.823164</td>\n",
       "      <td>33.721600</td>\n",
       "      <td>1</td>\n",
       "    </tr>\n",
       "    <tr>\n",
       "      <th>...</th>\n",
       "      <td>...</td>\n",
       "      <td>...</td>\n",
       "      <td>...</td>\n",
       "    </tr>\n",
       "    <tr>\n",
       "      <th>5943</th>\n",
       "      <td>5.496668</td>\n",
       "      <td>41.476462</td>\n",
       "      <td>1</td>\n",
       "    </tr>\n",
       "    <tr>\n",
       "      <th>7715</th>\n",
       "      <td>4.890726</td>\n",
       "      <td>48.951895</td>\n",
       "      <td>1</td>\n",
       "    </tr>\n",
       "    <tr>\n",
       "      <th>7096</th>\n",
       "      <td>6.339762</td>\n",
       "      <td>48.475598</td>\n",
       "      <td>0</td>\n",
       "    </tr>\n",
       "    <tr>\n",
       "      <th>2401</th>\n",
       "      <td>4.305448</td>\n",
       "      <td>26.558683</td>\n",
       "      <td>0</td>\n",
       "    </tr>\n",
       "    <tr>\n",
       "      <th>3706</th>\n",
       "      <td>4.695312</td>\n",
       "      <td>26.407067</td>\n",
       "      <td>0</td>\n",
       "    </tr>\n",
       "  </tbody>\n",
       "</table>\n",
       "<p>1664 rows × 3 columns</p>\n",
       "</div>"
      ],
      "text/plain": [
       "      LengthService        Age  Gender\n",
       "5297       2.971644  58.275661       1\n",
       "743        3.849750  32.830994       1\n",
       "7561       5.556229  49.920768       0\n",
       "3152       2.199341  22.321566       0\n",
       "2330       3.823164  33.721600       1\n",
       "...             ...        ...     ...\n",
       "5943       5.496668  41.476462       1\n",
       "7715       4.890726  48.951895       1\n",
       "7096       6.339762  48.475598       0\n",
       "2401       4.305448  26.558683       0\n",
       "3706       4.695312  26.407067       0\n",
       "\n",
       "[1664 rows x 3 columns]"
      ]
     },
     "execution_count": 134,
     "metadata": {},
     "output_type": "execute_result"
    }
   ],
   "source": [
    "X_test"
   ]
  },
  {
   "cell_type": "code",
   "execution_count": 144,
   "id": "b04200a3-8436-4275-919d-7a1c5d612629",
   "metadata": {},
   "outputs": [
    {
     "data": {
      "text/plain": [
       "array([96.15891673])"
      ]
     },
     "execution_count": 144,
     "metadata": {},
     "output_type": "execute_result"
    }
   ],
   "source": [
    "lin_model.predict([[4,48,1]])"
   ]
  },
  {
   "cell_type": "markdown",
   "id": "4ac6d529-f483-43ba-b036-a693f4899354",
   "metadata": {},
   "source": [
    "R2 оказался выше 0.72. Когда коэффициент близок к 1, то условная дисперсия модели достаточно мала и весьма вероятно, что модель неплохо описывает данные. "
   ]
  },
  {
   "cell_type": "markdown",
   "id": "ba6cfbf2-45d2-4f63-9e19-c9206c9cc640",
   "metadata": {},
   "source": [
    "## Выводы"
   ]
  },
  {
   "cell_type": "markdown",
   "id": "13e6cad0-4273-4e8a-8463-b3ed1e1831d8",
   "metadata": {},
   "source": [
    "1. Модель хорошо опятывает данные, поскольку R2 близок к 1.\n",
    "2. Наиболее весомым признаком является Gender.\n",
    "3. Наименее весомым признаком является salary LengthService."
   ]
  },
  {
   "cell_type": "code",
   "execution_count": null,
   "id": "ab250e08-2b5e-438a-b204-e0858fdcffc6",
   "metadata": {},
   "outputs": [],
   "source": []
  }
 ],
 "metadata": {
  "kernelspec": {
   "display_name": "Python 3",
   "language": "python",
   "name": "python3"
  },
  "language_info": {
   "codemirror_mode": {
    "name": "ipython",
    "version": 3
   },
   "file_extension": ".py",
   "mimetype": "text/x-python",
   "name": "python",
   "nbconvert_exporter": "python",
   "pygments_lexer": "ipython3",
   "version": "3.8.8"
  }
 },
 "nbformat": 4,
 "nbformat_minor": 5
}
